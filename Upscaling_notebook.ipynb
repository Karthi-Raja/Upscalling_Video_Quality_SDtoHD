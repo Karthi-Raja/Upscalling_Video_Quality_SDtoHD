{
  "metadata": {
    "kernelspec": {
      "display_name": "Python 3",
      "name": "python3"
    },
    "language_info": {
      "name": "python",
      "version": "3.10.12",
      "mimetype": "text/x-python",
      "codemirror_mode": {
        "name": "ipython",
        "version": 3
      },
      "pygments_lexer": "ipython3",
      "nbconvert_exporter": "python",
      "file_extension": ".py"
    },
    "kaggle": {
      "accelerator": "gpu",
      "dataSources": [
        {
          "sourceId": 7831039,
          "sourceType": "datasetVersion",
          "datasetId": 4589458
        },
        {
          "sourceId": 7832694,
          "sourceType": "datasetVersion",
          "datasetId": 4590688
        },
        {
          "sourceId": 7841309,
          "sourceType": "datasetVersion",
          "datasetId": 4596983
        }
      ],
      "dockerImageVersionId": 30558,
      "isInternetEnabled": true,
      "language": "python",
      "sourceType": "notebook",
      "isGpuEnabled": true
    },
    "colab": {
      "provenance": [],
      "gpuType": "T4"
    },
    "accelerator": "GPU"
  },
  "nbformat_minor": 0,
  "nbformat": 4,
  "cells": [
    {
      "cell_type": "code",
      "source": [
        "!pip install torch torchvision\n",
        "!pip install opencv-python"
      ],
      "metadata": {
        "execution": {
          "iopub.status.busy": "2024-03-14T09:37:17.317078Z",
          "iopub.execute_input": "2024-03-14T09:37:17.317849Z",
          "iopub.status.idle": "2024-03-14T09:37:41.419544Z",
          "shell.execute_reply.started": "2024-03-14T09:37:17.317806Z",
          "shell.execute_reply": "2024-03-14T09:37:41.418395Z"
        },
        "collapsed": true,
        "jupyter": {
          "outputs_hidden": true
        },
        "trusted": true,
        "colab": {
          "base_uri": "https://localhost:8080/"
        },
        "id": "quR3uXI2a3et",
        "outputId": "43bfc865-3c31-43f3-a9f1-16503343f20d"
      },
      "execution_count": null,
      "outputs": [
        {
          "output_type": "stream",
          "name": "stdout",
          "text": [
            "Requirement already satisfied: torch in /usr/local/lib/python3.10/dist-packages (2.5.0+cu121)\n",
            "Requirement already satisfied: torchvision in /usr/local/lib/python3.10/dist-packages (0.20.0+cu121)\n",
            "Requirement already satisfied: filelock in /usr/local/lib/python3.10/dist-packages (from torch) (3.16.1)\n",
            "Requirement already satisfied: typing-extensions>=4.8.0 in /usr/local/lib/python3.10/dist-packages (from torch) (4.12.2)\n",
            "Requirement already satisfied: networkx in /usr/local/lib/python3.10/dist-packages (from torch) (3.4.2)\n",
            "Requirement already satisfied: jinja2 in /usr/local/lib/python3.10/dist-packages (from torch) (3.1.4)\n",
            "Requirement already satisfied: fsspec in /usr/local/lib/python3.10/dist-packages (from torch) (2024.10.0)\n",
            "Requirement already satisfied: sympy==1.13.1 in /usr/local/lib/python3.10/dist-packages (from torch) (1.13.1)\n",
            "Requirement already satisfied: mpmath<1.4,>=1.1.0 in /usr/local/lib/python3.10/dist-packages (from sympy==1.13.1->torch) (1.3.0)\n",
            "Requirement already satisfied: numpy in /usr/local/lib/python3.10/dist-packages (from torchvision) (1.26.4)\n",
            "Requirement already satisfied: pillow!=8.3.*,>=5.3.0 in /usr/local/lib/python3.10/dist-packages (from torchvision) (10.4.0)\n",
            "Requirement already satisfied: MarkupSafe>=2.0 in /usr/local/lib/python3.10/dist-packages (from jinja2->torch) (3.0.2)\n",
            "Requirement already satisfied: opencv-python in /usr/local/lib/python3.10/dist-packages (4.10.0.84)\n",
            "Requirement already satisfied: numpy>=1.21.2 in /usr/local/lib/python3.10/dist-packages (from opencv-python) (1.26.4)\n"
          ]
        }
      ]
    },
    {
      "cell_type": "code",
      "source": [
        "from google.colab import drive\n",
        "drive.mount('/content/drive')"
      ],
      "metadata": {
        "colab": {
          "base_uri": "https://localhost:8080/"
        },
        "id": "MYWZgDVks_P7",
        "outputId": "8631671f-d245-45d1-d7fe-36f7bf1ea585"
      },
      "execution_count": null,
      "outputs": [
        {
          "output_type": "stream",
          "name": "stdout",
          "text": [
            "Mounted at /content/drive\n"
          ]
        }
      ]
    },
    {
      "cell_type": "code",
      "source": [
        "import torch\n",
        "import torch.nn as nn\n",
        "\n",
        "class FSRCNN_model(nn.Module):\n",
        "    def __init__(self, scale: int) -> None:\n",
        "        super(FSRCNN_model, self).__init__()\n",
        "\n",
        "        if scale not in [2, 3, 4]:\n",
        "            raise ValueError(\"must be 2, 3 or 4\")\n",
        "\n",
        "        d = 56\n",
        "        s = 12\n",
        "\n",
        "        self.feature_extract = nn.Conv2d(in_channels=3, out_channels=d, kernel_size=5, padding=2)\n",
        "        nn.init.kaiming_normal_(self.feature_extract.weight)\n",
        "        nn.init.zeros_(self.feature_extract.bias)\n",
        "\n",
        "        self.activation_1 = nn.PReLU(num_parameters=d)\n",
        "\n",
        "        self.shrink = nn.Conv2d(in_channels=d, out_channels=s, kernel_size=1)\n",
        "        nn.init.kaiming_normal_(self.shrink.weight)\n",
        "        nn.init.zeros_(self.shrink.bias)\n",
        "\n",
        "        self.activation_2 = nn.PReLU(num_parameters=s)\n",
        "\n",
        "\n",
        "        self.map_1 = nn.Conv2d(in_channels=s, out_channels=s, kernel_size=3, padding=1)\n",
        "        nn.init.kaiming_normal_(self.map_1.weight)\n",
        "        nn.init.zeros_(self.map_1.bias)\n",
        "\n",
        "        self.map_2 = nn.Conv2d(in_channels=s, out_channels=s, kernel_size=3, padding=1)\n",
        "        nn.init.kaiming_normal_(self.map_2.weight)\n",
        "        nn.init.zeros_(self.map_2.bias)\n",
        "\n",
        "        self.map_3 = nn.Conv2d(in_channels=s, out_channels=s, kernel_size=3, padding=1)\n",
        "        nn.init.kaiming_normal_(self.map_3.weight)\n",
        "        nn.init.zeros_(self.map_3.bias)\n",
        "\n",
        "        self.map_4 = nn.Conv2d(in_channels=s, out_channels=s, kernel_size=3, padding=1)\n",
        "        nn.init.kaiming_normal_(self.map_4.weight)\n",
        "        nn.init.zeros_(self.map_4.bias)\n",
        "\n",
        "        self.activation_3 = nn.PReLU(num_parameters=s)\n",
        "\n",
        "        self.expand = nn.Conv2d(in_channels=s, out_channels=d, kernel_size=1)\n",
        "        nn.init.kaiming_normal_(self.expand.weight)\n",
        "        nn.init.zeros_(self.expand.bias)\n",
        "\n",
        "        self.activation_4 = nn.PReLU(num_parameters=d)\n",
        "\n",
        "        self.deconv = nn.ConvTranspose2d(in_channels=d, out_channels=3, kernel_size=9,\n",
        "                                        stride=scale, padding=4, output_padding=scale-1)\n",
        "        nn.init.normal_(self.deconv.weight, mean=0.0, std=0.001)\n",
        "        nn.init.zeros_(self.deconv.bias)\n",
        "\n",
        "    def forward(self, X_in):\n",
        "        X = self.feature_extract(X_in)\n",
        "        X = self.activation_1(X)\n",
        "\n",
        "        X = self.shrink(X)\n",
        "        X = self.activation_2(X)\n",
        "\n",
        "        X = self.map_1(X)\n",
        "        X = self.map_2(X)\n",
        "        X = self.map_3(X)\n",
        "        X = self.map_4(X)\n",
        "        X = self.activation_3(X)\n",
        "\n",
        "        X = self.expand(X)\n",
        "        X = self.activation_4(X)\n",
        "\n",
        "        X = self.deconv(X)\n",
        "        X_out = torch.clip(X, 0.0, 1.0)\n",
        "\n",
        "        return X_out"
      ],
      "metadata": {
        "execution": {
          "iopub.status.busy": "2024-03-14T09:38:58.246334Z",
          "iopub.execute_input": "2024-03-14T09:38:58.246806Z",
          "iopub.status.idle": "2024-03-14T09:38:58.266007Z",
          "shell.execute_reply.started": "2024-03-14T09:38:58.246750Z",
          "shell.execute_reply": "2024-03-14T09:38:58.264735Z"
        },
        "trusted": true,
        "id": "kOqgJ2WCa3ex"
      },
      "execution_count": null,
      "outputs": []
    },
    {
      "cell_type": "code",
      "source": [
        "device = torch.device(\"cuda\" if torch.cuda.is_available() else \"cpu\")\n",
        "model = FSRCNN_model(scale=2).to(device)\n",
        "model.load_state_dict(torch.load(\"/content/drive/MyDrive/AI/CV/SSD/FSRCNN-x2.pt\", map_location=device))"
      ],
      "metadata": {
        "execution": {
          "iopub.status.busy": "2024-03-14T09:39:15.416704Z",
          "iopub.execute_input": "2024-03-14T09:39:15.417073Z",
          "iopub.status.idle": "2024-03-14T09:39:15.435827Z",
          "shell.execute_reply.started": "2024-03-14T09:39:15.417046Z",
          "shell.execute_reply": "2024-03-14T09:39:15.434930Z"
        },
        "trusted": true,
        "colab": {
          "base_uri": "https://localhost:8080/"
        },
        "id": "OBmYc4hCa3ey",
        "outputId": "88c793b4-a102-452e-bf0a-e0bdae560270"
      },
      "execution_count": null,
      "outputs": [
        {
          "output_type": "stream",
          "name": "stderr",
          "text": [
            "<ipython-input-4-a14c8405c861>:3: FutureWarning: You are using `torch.load` with `weights_only=False` (the current default value), which uses the default pickle module implicitly. It is possible to construct malicious pickle data which will execute arbitrary code during unpickling (See https://github.com/pytorch/pytorch/blob/main/SECURITY.md#untrusted-models for more details). In a future release, the default value for `weights_only` will be flipped to `True`. This limits the functions that could be executed during unpickling. Arbitrary objects will no longer be allowed to be loaded via this mode unless they are explicitly allowlisted by the user via `torch.serialization.add_safe_globals`. We recommend you start setting `weights_only=True` for any use case where you don't have full control of the loaded file. Please open an issue on GitHub for any issues related to this experimental feature.\n",
            "  model.load_state_dict(torch.load(\"/content/drive/MyDrive/AI/CV/SSD/FSRCNN-x2.pt\", map_location=device))\n"
          ]
        },
        {
          "output_type": "execute_result",
          "data": {
            "text/plain": [
              "<All keys matched successfully>"
            ]
          },
          "metadata": {},
          "execution_count": 4
        }
      ]
    },
    {
      "cell_type": "code",
      "source": [
        "import cv2\n",
        "import torch\n",
        "import numpy as np\n",
        "import time\n",
        "\n",
        "def upscale_video(input_path, output_path, model, device, scale_factor=2):\n",
        "\n",
        "\n",
        "    cap = cv2.VideoCapture(input_path)\n",
        "    if not cap.isOpened():\n",
        "        print(\"Error opening video stream or file\")\n",
        "        return\n",
        "\n",
        "    width = int(cap.get(cv2.CAP_PROP_FRAME_WIDTH) * scale_factor)\n",
        "    height = int(cap.get(cv2.CAP_PROP_FRAME_HEIGHT) * scale_factor)\n",
        "    fps = cap.get(cv2.CAP_PROP_FPS)\n",
        "\n",
        "    fourcc = cv2.VideoWriter_fourcc(*'mp4v')\n",
        "    out = cv2.VideoWriter(output_path, fourcc, fps, (width, height))\n",
        "\n",
        "    while cap.isOpened():\n",
        "        ret, frame = cap.read()\n",
        "        if not ret:\n",
        "            break\n",
        "\n",
        "        frame = cv2.cvtColor(frame, cv2.COLOR_BGR2RGB)\n",
        "        frame = frame.transpose((2, 0, 1))\n",
        "        frame = np.ascontiguousarray(frame)\n",
        "\n",
        "        input_tensor = torch.tensor(frame, dtype=torch.float32).unsqueeze(0).to(device) / 255.0\n",
        "\n",
        "        with torch.no_grad():\n",
        "            output_tensor = model(input_tensor)\n",
        "\n",
        "        output_frame = output_tensor.squeeze().cpu().numpy()\n",
        "        output_frame = output_frame.transpose((1, 2, 0))\n",
        "        output_frame = (output_frame * 255.0).clip(0, 255).astype(np.uint8)\n",
        "        output_frame = cv2.cvtColor(output_frame, cv2.COLOR_RGB2BGR)\n",
        "\n",
        "        out.write(output_frame)\n",
        "\n",
        "    cap.release()\n",
        "    out.release()\n",
        "\n",
        "\n",
        "\n",
        "\n",
        "input_video_path = \"/content/drive/MyDrive/AI/CV/SSD/videoplayback.mp4\"\n",
        "output_video_path = \"/content/drive/MyDrive/AI/CV/SSD/Output56.mp4\"\n",
        "upscale_video(input_video_path, output_video_path, model, device, scale_factor=2)"
      ],
      "metadata": {
        "execution": {
          "iopub.status.busy": "2024-03-14T09:39:50.585765Z",
          "iopub.execute_input": "2024-03-14T09:39:50.586817Z",
          "iopub.status.idle": "2024-03-14T09:40:13.214668Z",
          "shell.execute_reply.started": "2024-03-14T09:39:50.586743Z",
          "shell.execute_reply": "2024-03-14T09:40:13.213692Z"
        },
        "trusted": true,
        "id": "-8r4U_73a3ey"
      },
      "execution_count": null,
      "outputs": []
    },
    {
      "cell_type": "code",
      "source": [
        "import cv2\n",
        "\n",
        "def videoResolution(video_path):\n",
        "\n",
        "    cap = cv2.VideoCapture(video_path)\n",
        "\n",
        "    if not cap.isOpened():\n",
        "        return \"Video can't be opened\"\n",
        "\n",
        "\n",
        "    height = int(cap.get(cv2.CAP_PROP_FRAME_HEIGHT))\n",
        "\n",
        "\n",
        "    cap.release()\n",
        "\n",
        "\n",
        "    if height >= 2160:\n",
        "        return \"2160p (4K)\"\n",
        "    elif height >= 1440:\n",
        "        return \"1440p (QHD)\"\n",
        "    elif height >= 1080:\n",
        "        return \"1080p (Full HD)\"\n",
        "    elif height >= 720:\n",
        "        return \"720p (HD)\"\n",
        "    elif height >= 480:\n",
        "        return \"480p (SD)\"\n",
        "    else:\n",
        "        return \"Lower than 480p\"\n"
      ],
      "metadata": {
        "execution": {
          "iopub.status.busy": "2024-03-14T09:40:22.851463Z",
          "iopub.execute_input": "2024-03-14T09:40:22.851927Z",
          "iopub.status.idle": "2024-03-14T09:40:22.859429Z",
          "shell.execute_reply.started": "2024-03-14T09:40:22.851888Z",
          "shell.execute_reply": "2024-03-14T09:40:22.858323Z"
        },
        "trusted": true,
        "id": "cptiuVFKa3ey"
      },
      "execution_count": null,
      "outputs": []
    },
    {
      "cell_type": "code",
      "source": [
        "videoQuality = videoResolution(\"/content/drive/MyDrive/AI/CV/SSD/videoplayback.mp4\")\n",
        "print(f\"Video quality of this input video is: {videoQuality}\")"
      ],
      "metadata": {
        "execution": {
          "iopub.status.busy": "2024-03-14T09:40:38.080422Z",
          "iopub.execute_input": "2024-03-14T09:40:38.080814Z",
          "iopub.status.idle": "2024-03-14T09:40:38.092994Z",
          "shell.execute_reply.started": "2024-03-14T09:40:38.080768Z",
          "shell.execute_reply": "2024-03-14T09:40:38.091993Z"
        },
        "trusted": true,
        "id": "RjQE6Qzaa3ez",
        "colab": {
          "base_uri": "https://localhost:8080/"
        },
        "outputId": "a56f6126-645b-46f2-e5ad-5d2ddc335055"
      },
      "execution_count": null,
      "outputs": [
        {
          "output_type": "stream",
          "name": "stdout",
          "text": [
            "Video quality of this input video is: 480p (SD)\n"
          ]
        }
      ]
    },
    {
      "cell_type": "code",
      "source": [
        "videoQuality = videoResolution(\"/content/drive/MyDrive/AI/CV/SSD/Output56.mp4\")\n",
        "print(f\"Video quality of this output video is: {videoQuality}\")"
      ],
      "metadata": {
        "execution": {
          "iopub.status.busy": "2024-03-14T09:40:48.319654Z",
          "iopub.execute_input": "2024-03-14T09:40:48.320024Z",
          "iopub.status.idle": "2024-03-14T09:40:48.326486Z",
          "shell.execute_reply.started": "2024-03-14T09:40:48.319995Z",
          "shell.execute_reply": "2024-03-14T09:40:48.325442Z"
        },
        "trusted": true,
        "id": "c_lFMnsxa3ez",
        "colab": {
          "base_uri": "https://localhost:8080/"
        },
        "outputId": "e1a0d95d-ef0b-48c8-a674-0f572916b06c"
      },
      "execution_count": null,
      "outputs": [
        {
          "output_type": "stream",
          "name": "stdout",
          "text": [
            "Video quality of this output video is: 720p (HD)\n"
          ]
        }
      ]
    },
    {
      "cell_type": "code",
      "source": [],
      "metadata": {
        "id": "YR8uN63fa3ez"
      },
      "execution_count": null,
      "outputs": []
    }
  ]
}